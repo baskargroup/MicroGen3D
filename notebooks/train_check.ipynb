{
 "cells": [
  {
   "cell_type": "code",
   "execution_count": null,
   "metadata": {},
   "outputs": [],
   "source": [
    "import sys\n",
    "sys.argv = ['']\n",
    "%env SLURM_NTASKS=1"
   ]
  },
  {
   "cell_type": "code",
   "execution_count": null,
   "metadata": {
    "ExecuteTime": {
     "end_time": "2025-04-08T18:06:32.158390Z",
     "start_time": "2025-04-08T18:06:19.873921Z"
    }
   },
   "outputs": [],
   "source": [
    "import sys\n",
    "import torch\n",
    "import pytorch_lightning as pl\n",
    "from pytorch_lightning.callbacks import ModelCheckpoint\n",
    "import datetime\n",
    "import yaml\n",
    "import os\n",
    "\n",
    "from VAE import VAE\n",
    "from dataloader import ImageDataModule\n",
    "\n",
    "print(\"module loaded\")\n",
    "\n",
    "# Load config from YAML\n",
    "with open(\"config.yaml\", \"r\") as f:\n",
    "    config = yaml.safe_load(f)\n",
    "print(config)\n",
    "\n",
    "# Auto-generate task name if not provided\n",
    "if config.get('task') is None:\n",
    "    time = datetime.datetime.now().strftime(\"%Y-%m-%d_%H-%M\")\n",
    "    config['task'] = f\"VAE_{time}\"\n",
    "\n",
    "data_path = config['data_path']\n",
    "model_dir = config['model_dir']\n",
    "if not os.path.exists(model_dir):\n",
    "    os.makedirs(model_dir)\n",
    "transform = None\n",
    "\n",
    "print('Loading data')\n",
    "data = ImageDataModule(config['batch_size'], data_path, transform=transform)\n",
    "data.setup()\n",
    "train_loader = data.train_dataloader()\n",
    "val_loader = data.val_dataloader()\n",
    "print('Data loaded')\n",
    "\n",
    "# Logging and Callbacks\n",
    "wandb_logger = None  # Optional: configure later if needed\n",
    "checkpoint_callback = ModelCheckpoint(\n",
    "    monitor='val_recon_loss',\n",
    "    dirpath=model_dir,\n",
    "    filename=config['task'],\n",
    "    save_top_k=2,\n",
    "    mode='min',\n",
    ")\n",
    "\n",
    "print(\"Configuration:\")\n",
    "print(config)\n",
    "\n",
    "model = VAE(\n",
    "    latent_dim=config['latent_dim'],\n",
    "    T_max=config['max_epochs'],\n",
    "    kld_loss_weight=float(config['kld_loss_weight'])\n",
    ")\n",
    "\n",
    "print('Training')\n",
    "trainer = pl.Trainer(\n",
    "    max_epochs=config['max_epochs'],\n",
    "    logger=wandb_logger,\n",
    "    callbacks=[checkpoint_callback]\n",
    ")\n",
    "trainer.fit(model, train_loader, val_loader)\n",
    "print('Training complete')\n",
    "\n",
    "# Save the final model\n",
    "torch.save(model.state_dict(), os.path.join(model_dir, f\"{config['task']}_final_model.pth\"))\n"
   ]
  }
 ],
 "metadata": {
  "kernelspec": {
   "display_name": "Python (ldm)",
   "language": "python",
   "name": "ldm"
  },
  "language_info": {
   "codemirror_mode": {
    "name": "ipython",
    "version": 3
   },
   "file_extension": ".py",
   "mimetype": "text/x-python",
   "name": "python",
   "nbconvert_exporter": "python",
   "pygments_lexer": "ipython3",
   "version": "3.11.3"
  }
 },
 "nbformat": 4,
 "nbformat_minor": 4
}
